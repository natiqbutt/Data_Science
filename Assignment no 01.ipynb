{
 "cells": [
  {
   "cell_type": "code",
   "execution_count": 1,
   "id": "731eb805",
   "metadata": {},
   "outputs": [
    {
     "name": "stdout",
     "output_type": "stream",
     "text": [
      "Twinkle, twinkle, little star,\n",
      "\tHow I wonder what you are!\n",
      "\t\tUp above the world so high,\n",
      "\t\tLike a diamond in the sky\n",
      "Twinkle, twinkle, little star,\n",
      "\tHow I wonder what you are\n"
     ]
    }
   ],
   "source": [
    "\"\"\"Write a Python program to print the following string in a specific format (see the\n",
    "output).\n",
    "Twinkle, twinkle, little star,\n",
    "        How I wonder what you are!\n",
    "            Up above the world so high, \n",
    "            Like a diamond in the sky.\n",
    "Twinkle, twinkle, little star,\n",
    "        How I wonder what you are\n",
    "\"\"\"\n",
    "print(\"Twinkle, twinkle, little star,\");\n",
    "print(\"\\tHow I wonder what you are!\");\n",
    "print(\"\\t\\tUp above the world so high,\");\n",
    "print(\"\\t\\tLike a diamond in the sky\");\n",
    "print(\"Twinkle, twinkle, little star,\");\n",
    "print(\"\\tHow I wonder what you are\");"
   ]
  },
  {
   "cell_type": "code",
   "execution_count": 2,
   "id": "85020705",
   "metadata": {},
   "outputs": [
    {
     "name": "stdout",
     "output_type": "stream",
     "text": [
      "Python 3.8.8\n"
     ]
    }
   ],
   "source": [
    "# Write a Python program to get the Python version you are using\n",
    "\n",
    "!python -V"
   ]
  },
  {
   "cell_type": "code",
   "execution_count": 3,
   "id": "052393ef",
   "metadata": {},
   "outputs": [
    {
     "name": "stdout",
     "output_type": "stream",
     "text": [
      "01-01-22 12:31\n"
     ]
    }
   ],
   "source": [
    "# Write a Python program to display the current date and time.\n",
    "\n",
    "from datetime import datetime;\n",
    "now = datetime. now();\n",
    "print (now. strftime(\"%d-%m-%y %H:%M\"));"
   ]
  },
  {
   "cell_type": "code",
   "execution_count": 4,
   "id": "16d2bfe1",
   "metadata": {},
   "outputs": [
    {
     "name": "stdout",
     "output_type": "stream",
     "text": [
      "Enter the radius= 30\n",
      "Area of circle= 5652.0\n"
     ]
    }
   ],
   "source": [
    "# Write a Python program which accepts the radius of a circle from the user and compute the area.\n",
    "\n",
    "r=int(input(\"Enter the radius= \"));\n",
    "pi=3.14;\n",
    "area= 2*pi*r**2;\n",
    "print(\"Area of circle=\",area);"
   ]
  },
  {
   "cell_type": "code",
   "execution_count": 5,
   "id": "22785445",
   "metadata": {},
   "outputs": [
    {
     "name": "stdout",
     "output_type": "stream",
     "text": [
      "Enter First Name: Natiq\n",
      "Enter last Name: Butt\n",
      "Butt Natiq\n"
     ]
    }
   ],
   "source": [
    "\"\"\"Write a Python program which accepts the user's first and last name and print them in reverse order\n",
    "with a space between them.\"\"\"\n",
    "\n",
    "firstName=input(\"Enter First Name: \");\n",
    "lastName=input(\"Enter last Name: \");\n",
    "reverse= lastName+ \" \" +firstName;\n",
    "print(reverse);"
   ]
  },
  {
   "cell_type": "code",
   "execution_count": 11,
   "id": "3b5a308c",
   "metadata": {},
   "outputs": [
    {
     "name": "stdout",
     "output_type": "stream",
     "text": [
      "Enter First Number= 22.9\n",
      "Enter Second Number= 36.6\n",
      "59.5\n"
     ]
    }
   ],
   "source": [
    "#Write a python program which takes two inputs from user and print them addition\n",
    "\n",
    "firstNumber=float(input(\"Enter First Number= \"));\n",
    "secondNumber=float(input(\"Enter Second Number= \"));\n",
    "total= firstNumber + secondNumber;\n",
    "print(total);"
   ]
  },
  {
   "cell_type": "code",
   "execution_count": null,
   "id": "74cadb94",
   "metadata": {},
   "outputs": [],
   "source": []
  }
 ],
 "metadata": {
  "kernelspec": {
   "display_name": "Python 3",
   "language": "python",
   "name": "python3"
  },
  "language_info": {
   "codemirror_mode": {
    "name": "ipython",
    "version": 3
   },
   "file_extension": ".py",
   "mimetype": "text/x-python",
   "name": "python",
   "nbconvert_exporter": "python",
   "pygments_lexer": "ipython3",
   "version": "3.8.8"
  }
 },
 "nbformat": 4,
 "nbformat_minor": 5
}
